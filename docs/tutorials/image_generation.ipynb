{
 "cells": [
  {
   "cell_type": "markdown",
   "metadata": {},
   "source": [
    "# Optimize and Evaluate Image Generation Models\n",
    "\n",
    "- **Goal:** Show a standard workflow for optimizing and evaluating a image generation model.\n",
    "- **Model:** [CompVis/stable-diffusion-v1-4](https://huggingface.co/CompVis/stable-diffusion-v1-4)\n",
    "- **Dataset:** [data-is-better-together/open-image-preferences-v1](https://huggingface.co/datasets/data-is-better-together/open-image-preferences-v1)\n",
    "- **Libraries:** [diffusers](https://github.com/huggingface/diffusers)\n",
    "- **Optimization Algorithms:** quantiser(hqq_diffusers), compiler(torch_compile)\n",
    "- **Evaluation Metrics:**\n",
    "    - **Base Metrics:** elapsed_time\n",
    "    - **Stateful Metrics:** lpi, ssim, psnr, clip_score, cmmd\n",
    "\n",
    "## Getting Started\n",
    "\n",
    "\n",
    "### Install the dependencies\n",
    "\n",
    "To install the dependencies, run the following command:"
   ]
  },
  {
   "cell_type": "code",
   "execution_count": null,
   "metadata": {
    "vscode": {
     "languageId": "plaintext"
    }
   },
   "outputs": [],
   "source": [
    "!pip install pruna"
   ]
  },
  {
   "cell_type": "markdown",
   "metadata": {
    "vscode": {
     "languageId": "plaintext"
    }
   },
   "source": [
    "### Set the device\n",
    "\n",
    "Normally, we would set the device to the best available device to make the most out of the optimization process."
   ]
  },
  {
   "cell_type": "code",
   "execution_count": null,
   "metadata": {},
   "outputs": [],
   "source": [
    "import torch\n",
    "\n",
    "device = \"cuda\" if torch.cuda.is_available() else \"mps\" if torch.backends.mps.is_available() else \"cpu\""
   ]
  }
 ],
 "metadata": {
  "kernelspec": {
   "display_name": "pruna",
   "language": "python",
   "name": "python3"
  },
  "language_info": {
   "codemirror_mode": {
    "name": "ipython",
    "version": 3
   },
   "file_extension": ".py",
   "mimetype": "text/x-python",
   "name": "python",
   "nbconvert_exporter": "python",
   "pygments_lexer": "ipython3",
   "version": "3.11.11"
  }
 },
 "nbformat": 4,
 "nbformat_minor": 2
}
