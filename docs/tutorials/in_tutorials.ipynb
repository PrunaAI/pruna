{
 "cells": [
  {
   "cell_type": "code",
   "execution_count": null,
   "id": "7f547688",
   "metadata": {},
   "outputs": [],
   "source": [
    "def f():\n",
    "    print(\"Nothing happening here, just a notebook file which does nothing and whose sole purpose is to contain a couple of simple linting errors to be caught by ruff if it runs on this file, which it shouldn't.\")"
   ]
  }
 ],
 "metadata": {
  "language_info": {
   "name": "python"
  }
 },
 "nbformat": 4,
 "nbformat_minor": 5
}
