{
 "cells": [
  {
   "cell_type": "markdown",
   "metadata": {},
   "source": [
    "# Run your Flux model without an A100"
   ]
  },
  {
   "cell_type": "raw",
   "metadata": {
    "vscode": {
     "languageId": "raw"
    }
   },
   "source": [
    "<div style=\"display: flex; gap: 15px;\">\n",
    "    <a target=\"_blank\" href=\"https://colab.research.google.com/github/PrunaAI/pruna/blob/v|version|/docs/tutorials/flux_small.ipynb\">\n",
    "        <img src=\"https://colab.research.google.com/assets/colab-badge.svg\" alt=\"Open In Colab\"/>\n",
    "    </a>\n",
    "    <a target=\"_blank\" href=\"https://huggingface.co/PrunaAI/FLUX.1-schnell-8bit\">\n",
    "        <img src=\"https://huggingface.co/front/assets/huggingface_logo.svg\" alt=\"Open on HF\" style=\"width: auto; height: 20px;\"/>\n",
    "    </a>\n",
    "</div>"
   ]
  },
  {
   "cell_type": "markdown",
   "metadata": {},
   "source": [
    "This tutorial demonstrates how to use the `pruna` package to optimize your Flux model for memory consumption."
   ]
  },
  {
   "cell_type": "markdown",
   "metadata": {},
   "source": [
    "This tutorial smashes the Flux model on CPU, which will require around 28GB of memory. As the example inference is run on GPU with the smashed model, a GPU with around 18 GB VRAM is sufficient (15GB for 4bit quantization, 11GB for 4bit quantization with additional memory savings)."
   ]
  },
  {
   "cell_type": "code",
   "execution_count": null,
   "metadata": {},
   "outputs": [],
   "source": [
    "# if you are not running the latest version of this tutorial, make sure to install the matching version of pruna\n",
    "# the following command will install the latest version of pruna\n",
    "!pip install pruna"
   ]
  },
  {
   "cell_type": "markdown",
   "metadata": {},
   "source": [
    "### 1. Loading the Flux Model\n",
    "\n",
    "First, load your Flux model."
   ]
  },
  {
   "cell_type": "code",
   "execution_count": null,
   "metadata": {},
   "outputs": [],
   "source": [
    "import torch\n",
    "\n",
    "model_id = \"black-forest-labs/FLUX.1-schnell\"\n",
    "model_revision = \"refs/pr/1\"\n",
    "text_model_id = \"openai/clip-vit-large-patch14\"\n",
    "model_data_type = torch.bfloat16"
   ]
  },
  {
   "cell_type": "code",
   "execution_count": null,
   "metadata": {},
   "outputs": [],
   "source": [
    "from diffusers.models.transformers.transformer_flux import FluxTransformer2DModel\n",
    "from diffusers.pipelines.flux.pipeline_flux import FluxPipeline\n",
    "from transformers import CLIPTextModel, CLIPTokenizer,T5EncoderModel, T5TokenizerFast\n",
    "from diffusers import FlowMatchEulerDiscreteScheduler, AutoencoderKL\n",
    "\n",
    "tokenizer = CLIPTokenizer.from_pretrained(\n",
    "    text_model_id, torch_dtype=model_data_type)\n",
    "text_encoder = CLIPTextModel.from_pretrained(\n",
    "    text_model_id, torch_dtype=model_data_type)\n",
    "\n",
    "# 2\n",
    "tokenizer_2 = T5TokenizerFast.from_pretrained(\n",
    "    model_id, subfolder=\"tokenizer_2\", torch_dtype=model_data_type,\n",
    "    revision=model_revision)\n",
    "text_encoder_2 = T5EncoderModel.from_pretrained(\n",
    "    model_id, subfolder=\"text_encoder_2\", torch_dtype=model_data_type,\n",
    "    revision=model_revision)\n",
    "\n",
    "# Transformers\n",
    "scheduler = FlowMatchEulerDiscreteScheduler.from_pretrained(\n",
    "    model_id, subfolder=\"scheduler\", revision=model_revision)\n",
    "transformer = FluxTransformer2DModel.from_pretrained(\n",
    "    model_id, subfolder=\"transformer\", torch_dtype=model_data_type,\n",
    "    revision=model_revision)\n",
    "\n",
    "# VAE\n",
    "vae = AutoencoderKL.from_pretrained(\n",
    "    model_id, subfolder=\"vae\", torch_dtype=model_data_type,\n",
    "    revision=model_revision)"
   ]
  },
  {
   "cell_type": "markdown",
   "metadata": {},
   "source": [
    "### 2. Initializing the Smash Config\n",
    "\n",
    "Next, initialize the smash_config."
   ]
  },
  {
   "cell_type": "code",
   "execution_count": null,
   "metadata": {},
   "outputs": [],
   "source": [
    "from pruna import SmashConfig\n",
    "\n",
    "# Initialize the SmashConfig\n",
    "smash_config = SmashConfig()\n",
    "smash_config['quantizer'] = 'quanto'\n",
    "smash_config['quanto_calibrate'] = False\n",
    "smash_config['quanto_weight_bits'] = 'qfloat8' # or \"qint2\", \"qint4\", \"qint8\""
   ]
  },
  {
   "cell_type": "markdown",
   "metadata": {},
   "source": [
    "### 3. Smashing the Model\n",
    "\n",
    "Now, you can smash the model, which will take around 4 minutes."
   ]
  },
  {
   "cell_type": "code",
   "execution_count": null,
   "metadata": {},
   "outputs": [],
   "source": [
    "from pruna import smash\n",
    "\n",
    "transformer = smash(\n",
    "    model=transformer,\n",
    "    smash_config=smash_config,\n",
    ")\n",
    "text_encoder_2 = smash(\n",
    "    model=text_encoder_2,\n",
    "    smash_config=smash_config,\n",
    ")"
   ]
  },
  {
   "cell_type": "markdown",
   "metadata": {},
   "source": [
    "### 4. Running the Model\n",
    "\n",
    "Finally, run the model to generate the image. Note that moving the modules to the GPU can take some time."
   ]
  },
  {
   "cell_type": "code",
   "execution_count": null,
   "metadata": {},
   "outputs": [],
   "source": [
    "pipe = FluxPipeline(\n",
    "    scheduler=scheduler,\n",
    "    text_encoder=text_encoder,\n",
    "    tokenizer=tokenizer,\n",
    "    text_encoder_2=text_encoder_2,\n",
    "    tokenizer_2=tokenizer_2,\n",
    "    vae=vae,\n",
    "    transformer=transformer\n",
    ")"
   ]
  },
  {
   "cell_type": "code",
   "execution_count": null,
   "metadata": {},
   "outputs": [],
   "source": [
    "pipe.text_encoder.to('cuda')\n",
    "pipe.vae.to('cuda')\n",
    "pipe.transformer.to('cuda')\n",
    "pipe.text_encoder_2.to('cuda')"
   ]
  },
  {
   "cell_type": "code",
   "execution_count": null,
   "metadata": {},
   "outputs": [],
   "source": [
    "# For added memory savings run this block, there is however a trade-off with speed.\n",
    "vae.enable_tiling()\n",
    "vae.enable_slicing()\n",
    "pipe.enable_sequential_cpu_offload()"
   ]
  },
  {
   "cell_type": "code",
   "execution_count": null,
   "metadata": {},
   "outputs": [],
   "source": [
    "prompt = \"A cat holding a sign that says hello world\"\n",
    "pipe(\n",
    "    prompt,\n",
    "    guidance_scale=0.0,\n",
    "    num_inference_steps=4,\n",
    "    max_sequence_length=256,\n",
    "    generator=torch.Generator(\"cpu\").manual_seed(0)\n",
    ").images[0]"
   ]
  },
  {
   "cell_type": "markdown",
   "metadata": {},
   "source": [
    "### Wrap Up\n",
    "\n",
    "Congratulations! You have successfully smashed a Flux model. Enjoy the smaller memory footprint!"
   ]
  }
 ],
 "metadata": {
  "kernelspec": {
   "display_name": "pruna",
   "language": "python",
   "name": "python3"
  },
  "language_info": {
   "codemirror_mode": {
    "name": "ipython",
    "version": 3
   },
   "file_extension": ".py",
   "mimetype": "text/x-python",
   "name": "python",
   "nbconvert_exporter": "python",
   "pygments_lexer": "ipython3",
   "version": "3.10.15"
  }
 },
 "nbformat": 4,
 "nbformat_minor": 2
}
